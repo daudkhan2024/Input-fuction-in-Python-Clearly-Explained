{
 "cells": [
  {
   "cell_type": "code",
   "execution_count": 1,
   "id": "ce7813e4",
   "metadata": {},
   "outputs": [
    {
     "name": "stdout",
     "output_type": "stream",
     "text": [
      "price34\n",
      "your price is equal to  30\n"
     ]
    }
   ],
   "source": [
    "car_price = int(input(\"price\"))\n",
    "if car_price < 30:\n",
    "    print(\"your price is greater then 30\")\n",
    "    if car_price >25:\n",
    "        print(\"i will buy\")\n",
    "    \n",
    "elif car_price > 100:\n",
    "    print(\"your price is greater then 100\")\n",
    "else:\n",
    "    print(\"your price is equal to  30\")"
   ]
  },
  {
   "cell_type": "code",
   "execution_count": 2,
   "id": "d9bd7201",
   "metadata": {},
   "outputs": [],
   "source": [
    "# Here in Example ,\n",
    "# first in input function we use int\n",
    "#Then we give \"if\" Condition the price less then \"<30\"\n",
    "#while \"If\" price \"> 25\" , in \"elif\" we also give condition \"> 100\" \"other wise it will print\n",
    "# your price equal to 30,\n",
    "\n",
    "#Note :\"\" The python here iterate from up and start going down if it \"MEET THE CONDITION TRUE\"\n",
    "# it will stop there and execute the \"print output\",,,,,,\n",
    "# If in case it do not meet the condition and it become FALSE \"then it will iterate to second Condition\n",
    "# and will (stop) only if it find the \"CONDITION which will be TRUE\""
   ]
  }
 ],
 "metadata": {
  "kernelspec": {
   "display_name": "Python 3 (ipykernel)",
   "language": "python",
   "name": "python3"
  },
  "language_info": {
   "codemirror_mode": {
    "name": "ipython",
    "version": 3
   },
   "file_extension": ".py",
   "mimetype": "text/x-python",
   "name": "python",
   "nbconvert_exporter": "python",
   "pygments_lexer": "ipython3",
   "version": "3.9.12"
  }
 },
 "nbformat": 4,
 "nbformat_minor": 5
}
